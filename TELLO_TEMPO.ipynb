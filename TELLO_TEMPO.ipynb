{
 "cells": [
  {
   "cell_type": "markdown",
   "id": "54823de3",
   "metadata": {},
   "source": [
    "# Tello Tempo - D"
   ]
  },
  {
   "cell_type": "markdown",
   "id": "a13645fd",
   "metadata": {},
   "source": [
    "## Import de bibliothèques"
   ]
  },
  {
   "cell_type": "code",
   "execution_count": null,
   "id": "432d96dd",
   "metadata": {},
   "outputs": [],
   "source": [
    "!pip install tellopy\n",
    "!pip install djitellopy"
   ]
  },
  {
   "cell_type": "code",
   "execution_count": null,
   "id": "6d624e7a",
   "metadata": {},
   "outputs": [],
   "source": [
    "from djitellopy import Tello\n",
    "import tellopy\n",
    "import cv2 as cv \n",
    "import socket, time\n",
    "from time import sleep\n",
    "import datetime\n",
    "import os\n",
    "from threading import Thread\n",
    "\n",
    "import pytz # timezone for timestamp\n",
    "import datetime\n"
   ]
  },
  {
   "cell_type": "markdown",
   "id": "f14e0ab8",
   "metadata": {},
   "source": [
    "### Useful custom functions"
   ]
  },
  {
   "cell_type": "code",
   "execution_count": null,
   "id": "f1863d88",
   "metadata": {},
   "outputs": [],
   "source": [
    "def get_timestamp():\n",
    "    tz = pytz.timezone('Europe/Paris')\n",
    "    currentDT = datetime.datetime.now(tz)\n",
    "    TIMESTAMP = currentDT.strftime(\"%Y%m%d_%H%M%S\")\n",
    "    return TIMESTAMP"
   ]
  },
  {
   "cell_type": "code",
   "execution_count": null,
   "id": "1bb7e801",
   "metadata": {},
   "outputs": [],
   "source": [
    "def battery_level(tello):\n",
    "    print(f\"Battery level is {tello.get_battery()}%\")"
   ]
  },
  {
   "cell_type": "code",
   "execution_count": null,
   "id": "669004f0",
   "metadata": {},
   "outputs": [],
   "source": [
    "def difference(list1, list2):\n",
    "    zip_object = zip(list1, list2)\n",
    "    difference=[]\n",
    "    for list1_i, list2_i in zip_object:\n",
    "        difference.append(list2_i-list1_i)\n",
    "    return difference"
   ]
  },
  {
   "cell_type": "markdown",
   "id": "e0b9a38f",
   "metadata": {},
   "source": [
    "# Utilisation  de `Tellopy`"
   ]
  },
  {
   "cell_type": "markdown",
   "id": "dffd0046",
   "metadata": {},
   "source": [
    "* Décollage et attérissage "
   ]
  },
  {
   "cell_type": "code",
   "execution_count": null,
   "id": "7c369295",
   "metadata": {},
   "outputs": [],
   "source": [
    "\n",
    "# Paramètres de communication\n",
    "host = ''\n",
    "port = 9000\n",
    "locaddr = (host,port)\n",
    "\n",
    "#Connexion à l'adresse IP du drône pour entamer la communication \n",
    "sock = socket.socket(socket.AF_INET, socket.SOCK_DGRAM)\n",
    "tello_address = ('192.168.10.1', 8889)\n",
    "sock.bind(locaddr)\n",
    "\n",
    "\n",
    "sock.sendto('command'.encode(encoding=\"utf-8\"), tello_address)\n",
    "time.sleep(5)\n",
    "\n",
    "# # Takeoff\n",
    "# sock.sendto('takeoff'.encode(encoding=\"utf-8\"), tello_address)\n",
    "time.sleep(5)\n",
    "\n",
    "\n",
    "#Rotate clockwise 360\n",
    "# sock.sendto('tcw 360'.encode(encoding=\"utf-8\"), tello_address)\n",
    "time.sleep(5)\n",
    "\n",
    "# Land\n",
    "# sock.sendto('land'.encode(encoding=\"utf-8\"), tello_address)\n",
    "time.sleep(5)"
   ]
  },
  {
   "cell_type": "markdown",
   "id": "7b0783c6",
   "metadata": {},
   "source": [
    "# Utilisation de  `Djitellopy`"
   ]
  },
  {
   "cell_type": "markdown",
   "id": "aa54ce2f",
   "metadata": {},
   "source": [
    "##  Décollage , photo et attérissage "
   ]
  },
  {
   "cell_type": "code",
   "execution_count": null,
   "id": "f3c686cd",
   "metadata": {},
   "outputs": [],
   "source": [
    "tello= Tello () \n",
    "tello.connect() # Connexion\n",
    "tello.takeoff() # Décollage \n",
    "# tello.streamon() # Activation de la caméra\n",
    "\n",
    "time.sleep(1) # Tempo de 2s \n",
    "frame_read = tello.get_frame_read() # Capture d'impage\n",
    "img_name = f\"view_{get_timestamp()}.png\"\n",
    "print(img_name)\n",
    "cv.imwrite(\"testnew.png\", frame_read.frame) # Stockage en local \n",
    "time.sleep(1)\n",
    "tello.streamoff()\n",
    "tello.land()   # Attérissage"
   ]
  },
  {
   "cell_type": "markdown",
   "id": "38d042f0",
   "metadata": {},
   "source": [
    "*  Capture de vidéo"
   ]
  },
  {
   "cell_type": "code",
   "execution_count": null,
   "id": "faafdaec",
   "metadata": {},
   "outputs": [],
   "source": [
    "tello = Tello()\n",
    "tello.connect()\n",
    "\n",
    "KeepRecording= True\n",
    "tello.streamon()\n",
    "\n",
    "frame_read = tello.get_frame_read()\n",
    "\n",
    "def videoRecorder():\n",
    "    height, width,_= frame_read.frame.shape\n",
    "    video_name = f\"video_{get_timestamp()}.avi\"\n",
    "\n",
    "    video = cv.VideoWriter(video_name, cv.VideoWriter_fourcc(*'XVID'), 30, (width,height))\n",
    "    \n",
    "    while KeepRecording:\n",
    "        video.write(frame_read.frame)\n",
    "        time.sleep(1/30)\n",
    "    video.release()\n",
    "    \n",
    "recorder  = Thread(target=videoRecorder)\n",
    "recorder.start()\n",
    "\n",
    "tello.takeoff()\n",
    "tello.land()\n",
    "KeepRecording= False\n",
    "recorder.join()\n",
    "\n"
   ]
  },
  {
   "cell_type": "markdown",
   "id": "0fe09852",
   "metadata": {},
   "source": [
    "## Patrol - Tello.curve"
   ]
  },
  {
   "cell_type": "code",
   "execution_count": null,
   "id": "ee5e6d5a",
   "metadata": {},
   "outputs": [],
   "source": [
    "def patrol():\n",
    "    \"\"\"\n",
    "    Dessine un arc de cercle et se retourne\n",
    "    Espae nécessaire environ 1.5m\n",
    "    \"\"\"\n",
    "    tello.curve_xyz_speed(25, -25, 0, 150, 25, 0, 50)\n",
    "    tello.rotate_clockwise(180)\n"
   ]
  },
  {
   "cell_type": "code",
   "execution_count": null,
   "id": "b5e54db2",
   "metadata": {},
   "outputs": [],
   "source": [
    "NUM_PATROL = 4\n",
    "\n",
    "tello = Tello()\n",
    "tello.connect(False)\n",
    "\n",
    "# afficher niveau de batterie\n",
    "battery_level(tello)\n",
    "\n",
    "tello.takeoff()\n",
    "tello.move_up(80)\n",
    "\n",
    "for k in range(NUM_PATROL):\n",
    "    patrol()\n",
    "    \n",
    "tello.land()"
   ]
  },
  {
   "cell_type": "code",
   "execution_count": null,
   "id": "38b0ff24",
   "metadata": {},
   "outputs": [],
   "source": [
    "tello??"
   ]
  },
  {
   "cell_type": "code",
   "execution_count": null,
   "id": "580ecca9",
   "metadata": {},
   "outputs": [],
   "source": []
  },
  {
   "cell_type": "markdown",
   "id": "ede063f1",
   "metadata": {},
   "source": [
    "### Tentative de vol spirale\n",
    "\n",
    "* TODO donner de bonnes coordonnées\n",
    "* TODO fluidité des changement de coordonnées"
   ]
  },
  {
   "cell_type": "code",
   "execution_count": null,
   "id": "e56827dd",
   "metadata": {},
   "outputs": [],
   "source": [
    "def move_spirale(t, pos):\n",
    "    return [np.cos(t)*10, np.sin(t)*10, pos[2]+t, 0]"
   ]
  },
  {
   "cell_type": "code",
   "execution_count": null,
   "id": "bb5ec9c5",
   "metadata": {},
   "outputs": [],
   "source": [
    "def spirale(tello):\n",
    "    TEMPO=0.5\n",
    "    t=0\n",
    "    pos=[20, 20, 0, 0]\n",
    "    speed=50\n",
    "    PADDING=10\n",
    "\n",
    "    next_pos = pos\n",
    "    for k in range(10):\n",
    "        t+=1\n",
    "        pos_ = move_spirale(t, next_pos)\n",
    "        next_pos = difference(next_pos, pos_)\n",
    "        if next_pos[0] > 0:\n",
    "            next_pos[0]+=PADDING\n",
    "        else:\n",
    "            next_pos[0]-=PADDING\n",
    "        if next_pos[1] > 0:\n",
    "            next_pos[1]+=PADDING\n",
    "        else:\n",
    "            next_pos[1]-=PADDING\n",
    "        print(t, next_pos)\n",
    "        tello.go_xyz_speed(int(next_pos[0]), int(next_pos[1]), int(next_pos[2])+PADDING, speed)\n",
    "        time.sleep(TEMPO)\n"
   ]
  },
  {
   "cell_type": "code",
   "execution_count": null,
   "id": "354b3611",
   "metadata": {},
   "outputs": [],
   "source": [
    "tello = Tello()\n",
    "tello.connect(False)\n",
    "\n",
    "# afficher niveau de batterie\n",
    "battery_level(tello)\n",
    "\n",
    "tello.takeoff()\n",
    "# tello.move_up(80)\n",
    "\n",
    "spirale(tello)\n",
    "    \n",
    "tello.land()"
   ]
  },
  {
   "cell_type": "code",
   "execution_count": null,
   "id": "b0f26d06",
   "metadata": {},
   "outputs": [],
   "source": []
  }
 ],
 "metadata": {
  "kernelspec": {
   "display_name": "Python 3 (ipykernel)",
   "language": "python",
   "name": "python3"
  },
  "language_info": {
   "codemirror_mode": {
    "name": "ipython",
    "version": 3
   },
   "file_extension": ".py",
   "mimetype": "text/x-python",
   "name": "python",
   "nbconvert_exporter": "python",
   "pygments_lexer": "ipython3",
   "version": "3.9.6"
  }
 },
 "nbformat": 4,
 "nbformat_minor": 5
}
