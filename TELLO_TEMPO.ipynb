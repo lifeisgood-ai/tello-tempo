{
 "cells": [
  {
   "cell_type": "markdown",
   "id": "a13645fd",
   "metadata": {},
   "source": [
    "## IMPORT DES BIBLIOTHEQUES"
   ]
  },
  {
   "cell_type": "code",
   "execution_count": 1,
   "id": "6d624e7a",
   "metadata": {},
   "outputs": [],
   "source": [
    "from djitellopy import Tello\n",
    "import tellopy\n",
    "import cv2 as cv \n",
    "import socket, time\n",
    "from time import sleep\n",
    "import datetime\n",
    "import os\n",
    "from threading import Thread"
   ]
  },
  {
   "cell_type": "markdown",
   "id": "e0b9a38f",
   "metadata": {},
   "source": [
    "# Utilisation  de `Tellopy`"
   ]
  },
  {
   "cell_type": "markdown",
   "id": "dffd0046",
   "metadata": {},
   "source": [
    "* Décollage et attérissage "
   ]
  },
  {
   "cell_type": "code",
   "execution_count": 2,
   "id": "7c369295",
   "metadata": {},
   "outputs": [],
   "source": [
    "\n",
    "# Paramètres de communication\n",
    "host = ''\n",
    "port = 9000\n",
    "locaddr = (host,port)\n",
    "\n",
    "#Connexion à l'adresse IP du drône pour entamer la communication \n",
    "sock = socket.socket(socket.AF_INET, socket.SOCK_DGRAM)\n",
    "tello_address = ('192.168.10.1', 8889)\n",
    "sock.bind(locaddr)\n",
    "\n",
    "\n",
    "sock.sendto('command'.encode(encoding=\"utf-8\"), tello_address)\n",
    "time.sleep(5)\n",
    "\n",
    "# Takeoff\n",
    "sock.sendto('takeoff'.encode(encoding=\"utf-8\"), tello_address)\n",
    "time.sleep(5)\n",
    "\n",
    "\n",
    "#Rotate clockwise 360\n",
    "sock.sendto('tcw 360'.encode(encoding=\"utf-8\"), tello_address)\n",
    "time.sleep(5)\n",
    "\n",
    "# Land\n",
    "sock.sendto('land'.encode(encoding=\"utf-8\"), tello_address)\n",
    "time.sleep(5)"
   ]
  },
  {
   "cell_type": "markdown",
   "id": "7b0783c6",
   "metadata": {},
   "source": [
    "# Utilisation de  `Djitellopy`"
   ]
  },
  {
   "cell_type": "markdown",
   "id": "aa54ce2f",
   "metadata": {},
   "source": [
    "*  Décollage , photo et attérissage "
   ]
  },
  {
   "cell_type": "code",
   "execution_count": 3,
   "id": "f3c686cd",
   "metadata": {},
   "outputs": [
    {
     "name": "stderr",
     "output_type": "stream",
     "text": [
      "[INFO] tello.py - 122 - Tello instance was initialized. Host: '192.168.10.1'. Port: '8889'.\n",
      "[INFO] tello.py - 437 - Send command: 'command'\n",
      "[INFO] tello.py - 461 - Response command: 'ok'\n",
      "[INFO] tello.py - 437 - Send command: 'takeoff'\n",
      "[INFO] tello.py - 461 - Response takeoff: 'ok'\n",
      "[INFO] tello.py - 437 - Send command: 'streamon'\n",
      "[INFO] tello.py - 461 - Response streamon: 'ok'\n",
      "[INFO] tello.py - 437 - Send command: 'land'\n",
      "[INFO] tello.py - 461 - Response land: 'ok'\n"
     ]
    }
   ],
   "source": [
    "tello= Tello () \n",
    "tello.connect() # Connexion\n",
    "tello.takeoff() # Décollage \n",
    "tello.streamon() # Activation de la caméra\n",
    "\n",
    "time.sleep(2) # Tempo de 2s \n",
    "frame_read = tello.get_frame_read() # Capture d'impage \n",
    "cv.imwrite(\"testnew.png\", frame_read.frame) # Stockage en local \n",
    "time.sleep(2)\n",
    "tello.land()   # Attérissage"
   ]
  },
  {
   "cell_type": "markdown",
   "id": "38d042f0",
   "metadata": {},
   "source": [
    "*  Capture de vidéo"
   ]
  },
  {
   "cell_type": "code",
   "execution_count": 2,
   "id": "faafdaec",
   "metadata": {},
   "outputs": [
    {
     "name": "stderr",
     "output_type": "stream",
     "text": [
      "[INFO] tello.py - 122 - Tello instance was initialized. Host: '192.168.10.1'. Port: '8889'.\n",
      "[INFO] tello.py - 437 - Send command: 'command'\n",
      "[INFO] tello.py - 461 - Response command: 'ok'\n",
      "[INFO] tello.py - 437 - Send command: 'streamon'\n",
      "[INFO] tello.py - 461 - Response streamon: 'ok'\n",
      "[INFO] tello.py - 437 - Send command: 'takeoff'\n",
      "[INFO] tello.py - 461 - Response takeoff: 'ok'\n",
      "[INFO] tello.py - 437 - Send command: 'land'\n",
      "[INFO] tello.py - 461 - Response land: 'ok'\n",
      "Exception in thread Thread-10:\n",
      "Traceback (most recent call last):\n",
      "  File \"C:\\Users\\mouha\\anaconda3\\envs\\envniane\\lib\\threading.py\", line 926, in _bootstrap_inner\n",
      "    self.run()\n",
      "  File \"C:\\Users\\mouha\\anaconda3\\envs\\envniane\\lib\\threading.py\", line 870, in run\n",
      "    self._target(*self._args, **self._kwargs)\n",
      "  File \"C:\\Users\\mouha\\anaconda3\\envs\\envniane\\lib\\site-packages\\djitellopy\\tello.py\", line 1065, in update_frame\n",
      "    self.stop()\n",
      "  File \"C:\\Users\\mouha\\anaconda3\\envs\\envniane\\lib\\site-packages\\djitellopy\\tello.py\", line 1074, in stop\n",
      "    self.worker.join()\n",
      "  File \"C:\\Users\\mouha\\anaconda3\\envs\\envniane\\lib\\threading.py\", line 1041, in join\n",
      "    raise RuntimeError(\"cannot join current thread\")\n",
      "RuntimeError: cannot join current thread\n",
      "\n"
     ]
    }
   ],
   "source": [
    "tello = Tello()\n",
    "tello.connect()\n",
    "\n",
    "KeepRecording= True\n",
    "tello.streamon()\n",
    "\n",
    "frame_read = tello.get_frame_read()\n",
    "\n",
    "def videoRecorder():\n",
    "    height, width,_= frame_read.frame.shape\n",
    "    video = cv.VideoWriter('Video.avi', cv.VideoWriter_fourcc(*'XVID'), 30, (width,height))\n",
    "    \n",
    "    while KeepRecording:\n",
    "        video.write(frame_read.frame)\n",
    "        time.sleep(1/30)\n",
    "    video.release()\n",
    "    \n",
    "recorder  = Thread(target=videoRecorder)\n",
    "recorder.start()\n",
    "\n",
    "tello.takeoff()\n",
    "tello.land()\n",
    "KeepRecording= False\n",
    "recorder.join()\n",
    "\n"
   ]
  },
  {
   "cell_type": "code",
   "execution_count": null,
   "id": "b5e54db2",
   "metadata": {},
   "outputs": [],
   "source": []
  }
 ],
 "metadata": {
  "kernelspec": {
   "display_name": "envniane",
   "language": "python",
   "name": "envniane"
  },
  "language_info": {
   "codemirror_mode": {
    "name": "ipython",
    "version": 3
   },
   "file_extension": ".py",
   "mimetype": "text/x-python",
   "name": "python",
   "nbconvert_exporter": "python",
   "pygments_lexer": "ipython3",
   "version": "3.7.11"
  }
 },
 "nbformat": 4,
 "nbformat_minor": 5
}
